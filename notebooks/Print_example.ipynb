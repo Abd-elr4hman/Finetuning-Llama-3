{
 "cells": [
  {
   "cell_type": "code",
   "execution_count": 2,
   "metadata": {},
   "outputs": [],
   "source": [
    "response = \"\"\"\n",
    "\\n## Diagnostic Report\\n\\n### Patient Demographics:\\n- **Pregnancy History**: 1 pregnancy\\n- **Age**: 31 years old\\n\\n### Diagnostic Measurements:\\n1. **Plasma Glucose Concentration (2 hours post-OGTT)**: 85.0 mg/dL\\n2. **Diastolic Blood Pressure**: 66.0 mm Hg\\n3. **Triceps Skin Fold Thickness**: 29.0 mm\\n4. **2-Hour Serum Insulin**: 0.0 μU/ml\\n5. **Body Mass Index (BMI)**: 26.6 kg/m²\\n6. **Diabetes Pedigree Function**: 0.351\\n\\n### Analysis of Measurements:\\n\\n1. **Plasma Glucose Concentration**:\\n   - **Normal Range**: Typically, plasma glucose levels should be above 140 mg/dL 2 hours after a glucose tolerance test.\\n   - **Patient\\'s Value**: 85.0 mg/dL, which is within the normal range.\\n   - **Significance**: This low value suggests that the patient\\'s glucose metabolism is functioning within the typical range and does not indicate diabetes.\\n\\n2. **Diastolic Blood Pressure**:\\n   - **Normal Range**: The diastolic blood pressure for a healthy adult should usually be between 60 and 80 mm Hg.\\n   - **Patient\\'s Value**: 66.0 mm Hg, which is within the normal range.\\n   - **Significance**: This blood pressure value indicates that the patient\\'s blood pressure is not elevated and does not contribute towards an elevated risk of diabetes.\\n\\n3. **Triceps Skin Fold Thickness**:\\n   - **Normal Range**: Varies, but typically should be above 23 mm to indicate sufficient subcutaneous fat.\\n   - **Patient\\'s Value**: 29.0 mm, which is considered higher than typical.\\n   - **Significance**: A higher skin fold thickness can be an indicator of increased body fat, which might correlate with an elevated risk of developing diabetes, particularly if paired with a higher BMI value.\\n\\n4. **2-Hour Serum Insulin**:\\n   - **Normal Range**: Typically ranges from 8-108 μU/ml 2 hours after a glucose tolerance test.\\n   - **Patient\\'s Value**: 0.0 μU/ml, which is significantly low.\\n   - **Significance**: This absence of insulin response is highly unusual and may indicate an insulin deficiency, which is a significant factor in type 1 diabetes. However, without further evaluation, this does not confirm the presence of type 1 diabetes.\\n\\n5. **Body Mass Index (BMI)**:\\n   - **Normal Range**: A BMI between 18.5 and 24.9 is considered normal. Over 30 is classified as obese.\\n   - **Patient\\'s Value**: 26.6 kg/m², which falls in the \"overweight\" category.\\n   - **Significance**: A higher BMI is associated with an increased risk of developing insulin resistance and thus, diabetes over time.\\n\\n6. **Diabetes Pedigree Function**:\\n   - **Normal Range**: Varies; a higher value indicates a higher likelihood of diabetes based on family history and genetic factors.\\n   - **Patient\\'s Value**: 0.351, which suggests a modest to moderate genetic predisposition to diabetes.\\n   - **Significance**: This value indicates that the patient has a medium genetic predisposition to diabetes, making it more likely but not definitive.\\n\\n7. **Age**:\\n   - **Normal Range**: The risk of developing type 2 diabetes increases after age 45. However, type 1 diabetes can manifest at any age, including infancy.\\n   - **Patient\\'s Value**: 31 years old, which is below the typical high risk age but still at risk.\\n   - **Significance**: Age is a critical factor in diabetes risk assessment, and while the patient is not currently at an elevated age-related risk, they remain at a risk due to other measurement factors.\\n\\n### Conclusion and Diagnostic Prediction:\\n\\nBased on the provided measurements, the patient does not currently exhibit classical symptoms of diabetes such as elevated plasma glucose levels. The low plasma glucose concentration, normal diastolic blood pressure, and absence of insulin response (likely indicating type 1 diabetes) are all contrary to a diabetes diagnosis.\\n\\nHowever, the patient has a higher BMI and skin fold thickness, indicating being overweight, which is a known risk factor for developing type 2 diabetes over time. Additionally, the moderate diabetes pedigree function suggests a genetic predisposition.\\n\\nIn summary, while the patient is at a higher body weight and has a genetic predisposition, the current glucose levels and absence of typical symptoms do not indicate an active diagnosis of diabetes. However, proactive lifestyle changes and regular monitoring are recommended to mitigate the future risk factors.\n",
    "\"\"\""
   ]
  },
  {
   "cell_type": "code",
   "execution_count": 3,
   "metadata": {},
   "outputs": [],
   "source": [
    "# Writing to file\n",
    "with open(\"../examples/example_llama3.txt\", \"w\") as file1:\n",
    "    # Writing data to a file\n",
    "    file1.write(response)"
   ]
  },
  {
   "cell_type": "code",
   "execution_count": null,
   "metadata": {},
   "outputs": [],
   "source": []
  }
 ],
 "metadata": {
  "kernelspec": {
   "display_name": ".venv",
   "language": "python",
   "name": "python3"
  },
  "language_info": {
   "codemirror_mode": {
    "name": "ipython",
    "version": 3
   },
   "file_extension": ".py",
   "mimetype": "text/x-python",
   "name": "python",
   "nbconvert_exporter": "python",
   "pygments_lexer": "ipython3",
   "version": "3.11.7"
  }
 },
 "nbformat": 4,
 "nbformat_minor": 2
}
