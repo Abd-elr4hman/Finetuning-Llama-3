{
 "cells": [
  {
   "cell_type": "code",
   "execution_count": 1,
   "metadata": {},
   "outputs": [],
   "source": [
    "import pandas as pd"
   ]
  },
  {
   "cell_type": "code",
   "execution_count": 2,
   "metadata": {},
   "outputs": [],
   "source": [
    "df = pd.read_csv(\"../data/synthetic.csv\")"
   ]
  },
  {
   "cell_type": "code",
   "execution_count": 3,
   "metadata": {},
   "outputs": [
    {
     "data": {
      "text/html": [
       "<div>\n",
       "<style scoped>\n",
       "    .dataframe tbody tr th:only-of-type {\n",
       "        vertical-align: middle;\n",
       "    }\n",
       "\n",
       "    .dataframe tbody tr th {\n",
       "        vertical-align: top;\n",
       "    }\n",
       "\n",
       "    .dataframe thead th {\n",
       "        text-align: right;\n",
       "    }\n",
       "</style>\n",
       "<table border=\"1\" class=\"dataframe\">\n",
       "  <thead>\n",
       "    <tr style=\"text-align: right;\">\n",
       "      <th></th>\n",
       "      <th>Unnamed: 0</th>\n",
       "      <th>input</th>\n",
       "      <th>output</th>\n",
       "      <th>instruction</th>\n",
       "    </tr>\n",
       "  </thead>\n",
       "  <tbody>\n",
       "    <tr>\n",
       "      <th>0</th>\n",
       "      <td>0</td>\n",
       "      <td>Give me a report of the patient status given t...</td>\n",
       "      <td>## Comprehensive Report on Patient's Diabetes ...</td>\n",
       "      <td>\\n        - You are an assistant for a medical...</td>\n",
       "    </tr>\n",
       "    <tr>\n",
       "      <th>1</th>\n",
       "      <td>1</td>\n",
       "      <td>Give me a report of the patient status given t...</td>\n",
       "      <td>### Patient Diabetes Diagnostic Report\\n\\n####...</td>\n",
       "      <td>\\n        - You are an assistant for a medical...</td>\n",
       "    </tr>\n",
       "    <tr>\n",
       "      <th>2</th>\n",
       "      <td>2</td>\n",
       "      <td>Give me a report of the patient status given t...</td>\n",
       "      <td>### Patient Report: Diabetes Risk Analysis\\n\\n...</td>\n",
       "      <td>\\n        - You are an assistant for a medical...</td>\n",
       "    </tr>\n",
       "    <tr>\n",
       "      <th>3</th>\n",
       "      <td>3</td>\n",
       "      <td>Give me a report of the patient status given t...</td>\n",
       "      <td># Patient Diagnostic Report for Diabetes Risk ...</td>\n",
       "      <td>\\n        - You are an assistant for a medical...</td>\n",
       "    </tr>\n",
       "    <tr>\n",
       "      <th>4</th>\n",
       "      <td>4</td>\n",
       "      <td>Give me a report of the patient status given t...</td>\n",
       "      <td>## Diagnostic Report\\n\\n### Patient Demographi...</td>\n",
       "      <td>\\n        - You are an assistant for a medical...</td>\n",
       "    </tr>\n",
       "  </tbody>\n",
       "</table>\n",
       "</div>"
      ],
      "text/plain": [
       "   Unnamed: 0                                              input  \\\n",
       "0           0  Give me a report of the patient status given t...   \n",
       "1           1  Give me a report of the patient status given t...   \n",
       "2           2  Give me a report of the patient status given t...   \n",
       "3           3  Give me a report of the patient status given t...   \n",
       "4           4  Give me a report of the patient status given t...   \n",
       "\n",
       "                                              output  \\\n",
       "0  ## Comprehensive Report on Patient's Diabetes ...   \n",
       "1  ### Patient Diabetes Diagnostic Report\\n\\n####...   \n",
       "2  ### Patient Report: Diabetes Risk Analysis\\n\\n...   \n",
       "3  # Patient Diagnostic Report for Diabetes Risk ...   \n",
       "4  ## Diagnostic Report\\n\\n### Patient Demographi...   \n",
       "\n",
       "                                         instruction  \n",
       "0  \\n        - You are an assistant for a medical...  \n",
       "1  \\n        - You are an assistant for a medical...  \n",
       "2  \\n        - You are an assistant for a medical...  \n",
       "3  \\n        - You are an assistant for a medical...  \n",
       "4  \\n        - You are an assistant for a medical...  "
      ]
     },
     "execution_count": 3,
     "metadata": {},
     "output_type": "execute_result"
    }
   ],
   "source": [
    "df.head()"
   ]
  },
  {
   "cell_type": "code",
   "execution_count": null,
   "metadata": {},
   "outputs": [],
   "source": []
  }
 ],
 "metadata": {
  "kernelspec": {
   "display_name": ".venv",
   "language": "python",
   "name": "python3"
  },
  "language_info": {
   "codemirror_mode": {
    "name": "ipython",
    "version": 3
   },
   "file_extension": ".py",
   "mimetype": "text/x-python",
   "name": "python",
   "nbconvert_exporter": "python",
   "pygments_lexer": "ipython3",
   "version": "3.11.7"
  }
 },
 "nbformat": 4,
 "nbformat_minor": 2
}
