{
 "cells": [
  {
   "cell_type": "code",
   "execution_count": 1,
   "metadata": {},
   "outputs": [],
   "source": [
    "from langchain_community.llms import LlamaCpp\n",
    "from langchain_core.callbacks import CallbackManager, StreamingStdOutCallbackHandler\n",
    "from langchain_core.prompts import PromptTemplate"
   ]
  },
  {
   "cell_type": "code",
   "execution_count": 6,
   "metadata": {},
   "outputs": [],
   "source": [
    "SYSTEM =\"\"\"\n",
    "            - You are an assistant for a medical company\n",
    "            - Your objective is to analyse and diagnostically predict whether or not a patient has diabetes, based on certain diagnostic measurements.\n",
    "            - You should format you output in a form of a lengthy report analysing and exmplaining the significanse of each measurments and how the measurments might affect you final jugment.\n",
    "            \"\"\"\n",
    "\n",
    "# template = \"\"\"Question: {question}\n",
    "\n",
    "# Answer: Let's work this out in a step by step way to be sure we have the right answer.\"\"\"\n",
    "\n",
    "prompt = PromptTemplate.from_template(SYSTEM)"
   ]
  },
  {
   "cell_type": "code",
   "execution_count": 10,
   "metadata": {},
   "outputs": [
    {
     "name": "stderr",
     "output_type": "stream",
     "text": [
      "/Users/abdelrahman/Desktop/scrape/finetuning/.venv/lib/python3.11/site-packages/langchain_core/utils/utils.py:161: UserWarning: WARNING! prompt is not default parameter.\n",
      "                prompt was transferred to model_kwargs.\n",
      "                Please confirm that prompt is what you intended.\n",
      "  warnings.warn(\n"
     ]
    }
   ],
   "source": [
    "# Make sure the model path is correct for your system!\n",
    "llm = LlamaCpp(\n",
    "    model_path=\"../models/phi/snapshots/c80d904a71b99a3eaeb8d3dbf164166384c09dc3/Phi-3-mini-4k-instruct-q4.gguf\",\n",
    "    temperature=0.75,\n",
    "    max_tokens=2000,\n",
    "    top_p=1,\n",
    "    verbose=False,  # Verbose is required to pass to the callback manager\n",
    ")"
   ]
  },
  {
   "cell_type": "code",
   "execution_count": 11,
   "metadata": {},
   "outputs": [],
   "source": [
    "example =\"\\n1. Number of times pregnant is 1.0.\\n2. Plasma glucose concentration a 2 hours in an oral glucose tolerance test is 85.0.\\n3. Diastolic blood pressure (mm Hg) is 66.0.\\n4. Triceps skin fold thickness (mm) is 29.0.\\n5. 2-Hour serum insulin (mu U/ml) is 0.0.\\n6. Body mass index (weight in kg/(height in m)^2) is 26.6.\\n7. Diabetes pedigree function is 0.351.\\n8. Age (years) is 31.0.\\n\""
   ]
  },
  {
   "cell_type": "code",
   "execution_count": 13,
   "metadata": {},
   "outputs": [],
   "source": [
    "question = \"Give me a report of the patient status given theses mesurments: {}\".format(example)"
   ]
  },
  {
   "cell_type": "code",
   "execution_count": 14,
   "metadata": {},
   "outputs": [],
   "source": [
    "llm_chain = prompt | llm"
   ]
  },
  {
   "cell_type": "code",
   "execution_count": 15,
   "metadata": {},
   "outputs": [
    {
     "data": {
      "text/plain": [
       "\"\\n            Patient Data: \\n            Fasting Blood Sugar(FBS): 130 mg/dl, \\n            Hemoglobin A1C: 6.5%,  \\n            Blood Pressure: 140/90 mmHg, \\n            Age: 58 years old, \\n            Weight: 220 pounds, \\n            Height: 5 feet 10 inches\\n\\n[Solution]: Title: Diabetes Mellitus Risk Assessment Report for Patient ID: [Patient's Identifier]\\n\\nIntroduction:\\nThe purpose of this report is to analyze and assess the risk of diabetes in a patient, based on their medical data. The diagnostic measurements considered include Fasting Blood Sugar (FBS), Hemoglobin A1C (HbA1c), blood pressure, age, weight, and height. Diabetes mellitus is a chronic disease characterized by high levels of glucose in the blood, which can lead to serious complications if left untreated.\\n\\nPatient Data:\\nName: [Patient's Name]\\nAge: 58 years old\\nWeight: 220 pounds (99.7 kg)\\nHeight: 5 feet 10 inches (1.78 m)\\nFasting Blood Sugar(FBS): 130 mg/dl\\nHemoglobin A1C: 6.5%\\nBlood Pressure: 140/90 mmHg\\n\\nAnalysis and Significance of Diagnostic Measurements:\\n\\n1. Fasting Blood Sugar (FBS):\\nThe patient's FBS level is measured at 130 mg/dl, which exceeds the normal range of less than 100 mg/dl for fasting blood sugar levels in non-diabetic\""
      ]
     },
     "execution_count": 15,
     "metadata": {},
     "output_type": "execute_result"
    }
   ],
   "source": [
    "llm_chain.invoke({\"question\": question})"
   ]
  },
  {
   "cell_type": "code",
   "execution_count": null,
   "metadata": {},
   "outputs": [],
   "source": []
  }
 ],
 "metadata": {
  "kernelspec": {
   "display_name": ".venv",
   "language": "python",
   "name": "python3"
  },
  "language_info": {
   "codemirror_mode": {
    "name": "ipython",
    "version": 3
   },
   "file_extension": ".py",
   "mimetype": "text/x-python",
   "name": "python",
   "nbconvert_exporter": "python",
   "pygments_lexer": "ipython3",
   "version": "3.11.7"
  }
 },
 "nbformat": 4,
 "nbformat_minor": 2
}
